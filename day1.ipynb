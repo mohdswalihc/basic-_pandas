{
 "cells": [
  {
   "cell_type": "code",
   "execution_count": null,
   "id": "9e21a334-26a8-4f80-a9d2-b802030396c3",
   "metadata": {},
   "outputs": [],
   "source": [
    "import pandas as pd\n",
    "import numpy as np"
   ]
  },
  {
   "cell_type": "markdown",
   "id": "6c22b4b8",
   "metadata": {},
   "source": [
    "### day 1 of pandas"
   ]
  },
  {
   "cell_type": "markdown",
   "id": "bfb25b1b-7ae5-4106-9db6-7ae6dda2715e",
   "metadata": {
    "panel-layout": {
     "height": 43.203125,
     "visible": true,
     "width": 100
    }
   },
   "source": [
    "####  Create a Series from a Python list.\n"
   ]
  },
  {
   "cell_type": "code",
   "execution_count": 3,
   "id": "aba50b9f-e19c-44f2-9fef-6194b2a45a40",
   "metadata": {
    "panel-layout": {
     "height": 173,
     "visible": true,
     "width": 100
    }
   },
   "outputs": [
    {
     "name": "stdout",
     "output_type": "stream",
     "text": [
      "[10, 20, 30, 'a', 'b']\n"
     ]
    },
    {
     "data": {
      "text/html": [
       "<div>\n",
       "<style scoped>\n",
       "    .dataframe tbody tr th:only-of-type {\n",
       "        vertical-align: middle;\n",
       "    }\n",
       "\n",
       "    .dataframe tbody tr th {\n",
       "        vertical-align: top;\n",
       "    }\n",
       "\n",
       "    .dataframe thead th {\n",
       "        text-align: right;\n",
       "    }\n",
       "</style>\n",
       "<table border=\"1\" class=\"dataframe\">\n",
       "  <thead>\n",
       "    <tr style=\"text-align: right;\">\n",
       "      <th></th>\n",
       "      <th>numbers</th>\n",
       "    </tr>\n",
       "  </thead>\n",
       "  <tbody>\n",
       "    <tr>\n",
       "      <th>0</th>\n",
       "      <td>10</td>\n",
       "    </tr>\n",
       "    <tr>\n",
       "      <th>1</th>\n",
       "      <td>20</td>\n",
       "    </tr>\n",
       "    <tr>\n",
       "      <th>2</th>\n",
       "      <td>30</td>\n",
       "    </tr>\n",
       "    <tr>\n",
       "      <th>3</th>\n",
       "      <td>a</td>\n",
       "    </tr>\n",
       "    <tr>\n",
       "      <th>4</th>\n",
       "      <td>b</td>\n",
       "    </tr>\n",
       "  </tbody>\n",
       "</table>\n",
       "</div>"
      ],
      "text/plain": [
       "  numbers\n",
       "0      10\n",
       "1      20\n",
       "2      30\n",
       "3       a\n",
       "4       b"
      ]
     },
     "execution_count": 3,
     "metadata": {},
     "output_type": "execute_result"
    }
   ],
   "source": [
    "py_list=[10,20,30,\"a\",\"b\"]\n",
    "print(py_list)\n",
    "ser=pd.Series(py_list,name=\"numbers\")\n",
    "ser.to_frame()\n",
    "\n"
   ]
  },
  {
   "cell_type": "markdown",
   "id": "07132993-bc8c-4401-a8ad-4c48e69afcfc",
   "metadata": {
    "panel-layout": {
     "height": 43.203125,
     "visible": true,
     "width": 100
    }
   },
   "source": [
    "#### Create a DataFrame from a dictionary."
   ]
  },
  {
   "cell_type": "code",
   "execution_count": 4,
   "id": "79b2c5ac-2f51-4853-9a69-4750cba03410",
   "metadata": {
    "panel-layout": {
     "height": 87.609375,
     "visible": true,
     "width": 100
    }
   },
   "outputs": [
    {
     "data": {
      "text/plain": [
       "{'name': ['swalih', 'husna'], 'mark': [75, 90]}"
      ]
     },
     "execution_count": 4,
     "metadata": {},
     "output_type": "execute_result"
    }
   ],
   "source": [
    "dic={\n",
    "    \"name\":[\"swalih\",\"husna\"],\n",
    "    \"mark\":[75,90]\n",
    "}\n",
    "dic"
   ]
  },
  {
   "cell_type": "code",
   "execution_count": 5,
   "id": "b1f1b1d4-1940-4926-82ec-4956f1a9d507",
   "metadata": {
    "panel-layout": {
     "height": 92.00003051757812,
     "visible": true,
     "width": 100
    }
   },
   "outputs": [
    {
     "data": {
      "text/html": [
       "<div>\n",
       "<style scoped>\n",
       "    .dataframe tbody tr th:only-of-type {\n",
       "        vertical-align: middle;\n",
       "    }\n",
       "\n",
       "    .dataframe tbody tr th {\n",
       "        vertical-align: top;\n",
       "    }\n",
       "\n",
       "    .dataframe thead th {\n",
       "        text-align: right;\n",
       "    }\n",
       "</style>\n",
       "<table border=\"1\" class=\"dataframe\">\n",
       "  <thead>\n",
       "    <tr style=\"text-align: right;\">\n",
       "      <th></th>\n",
       "      <th>name</th>\n",
       "      <th>mark</th>\n",
       "    </tr>\n",
       "  </thead>\n",
       "  <tbody>\n",
       "    <tr>\n",
       "      <th>1</th>\n",
       "      <td>swalih</td>\n",
       "      <td>75</td>\n",
       "    </tr>\n",
       "    <tr>\n",
       "      <th>2</th>\n",
       "      <td>husna</td>\n",
       "      <td>90</td>\n",
       "    </tr>\n",
       "  </tbody>\n",
       "</table>\n",
       "</div>"
      ],
      "text/plain": [
       "     name  mark\n",
       "1  swalih    75\n",
       "2   husna    90"
      ]
     },
     "execution_count": 5,
     "metadata": {},
     "output_type": "execute_result"
    }
   ],
   "source": [
    "ind=[1,2]\n",
    "\n",
    "df=pd.DataFrame(dic)\n",
    "df.index=ind\n",
    "df"
   ]
  },
  {
   "cell_type": "markdown",
   "id": "ba74e046-282f-4f5f-ac2a-52b5bfeb351d",
   "metadata": {
    "panel-layout": {
     "height": 43.203125,
     "visible": true,
     "width": 100
    }
   },
   "source": [
    "#### Rename the columns of a DataFrame."
   ]
  },
  {
   "cell_type": "code",
   "execution_count": 6,
   "id": "502326f5-e704-4020-a597-aa64d081d8bf",
   "metadata": {
    "panel-layout": {
     "height": 92,
     "visible": true,
     "width": 100
    }
   },
   "outputs": [
    {
     "data": {
      "text/html": [
       "<div>\n",
       "<style scoped>\n",
       "    .dataframe tbody tr th:only-of-type {\n",
       "        vertical-align: middle;\n",
       "    }\n",
       "\n",
       "    .dataframe tbody tr th {\n",
       "        vertical-align: top;\n",
       "    }\n",
       "\n",
       "    .dataframe thead th {\n",
       "        text-align: right;\n",
       "    }\n",
       "</style>\n",
       "<table border=\"1\" class=\"dataframe\">\n",
       "  <thead>\n",
       "    <tr style=\"text-align: right;\">\n",
       "      <th></th>\n",
       "      <th>name</th>\n",
       "      <th>mark</th>\n",
       "    </tr>\n",
       "  </thead>\n",
       "  <tbody>\n",
       "    <tr>\n",
       "      <th>1</th>\n",
       "      <td>swalih</td>\n",
       "      <td>75</td>\n",
       "    </tr>\n",
       "    <tr>\n",
       "      <th>2</th>\n",
       "      <td>husna</td>\n",
       "      <td>90</td>\n",
       "    </tr>\n",
       "  </tbody>\n",
       "</table>\n",
       "</div>"
      ],
      "text/plain": [
       "     name  mark\n",
       "1  swalih    75\n",
       "2   husna    90"
      ]
     },
     "execution_count": 6,
     "metadata": {},
     "output_type": "execute_result"
    }
   ],
   "source": [
    "dic={\n",
    "    \"name\":[\"swalih\",\"husna\"],\n",
    "    \"mark\":[75,90]\n",
    "}\n",
    "ind=[1,2]\n",
    "\n",
    "df=pd.DataFrame(dic)\n",
    "df.index=ind\n",
    "df\n"
   ]
  },
  {
   "cell_type": "code",
   "execution_count": 7,
   "id": "20ddf8e2-36b6-4b64-a855-2bdc2bba18c7",
   "metadata": {
    "panel-layout": {
     "height": 92,
     "visible": true,
     "width": 100
    }
   },
   "outputs": [
    {
     "data": {
      "text/html": [
       "<div>\n",
       "<style scoped>\n",
       "    .dataframe tbody tr th:only-of-type {\n",
       "        vertical-align: middle;\n",
       "    }\n",
       "\n",
       "    .dataframe tbody tr th {\n",
       "        vertical-align: top;\n",
       "    }\n",
       "\n",
       "    .dataframe thead th {\n",
       "        text-align: right;\n",
       "    }\n",
       "</style>\n",
       "<table border=\"1\" class=\"dataframe\">\n",
       "  <thead>\n",
       "    <tr style=\"text-align: right;\">\n",
       "      <th></th>\n",
       "      <th>Names</th>\n",
       "      <th>Marks</th>\n",
       "    </tr>\n",
       "  </thead>\n",
       "  <tbody>\n",
       "    <tr>\n",
       "      <th>1</th>\n",
       "      <td>swalih</td>\n",
       "      <td>75</td>\n",
       "    </tr>\n",
       "    <tr>\n",
       "      <th>2</th>\n",
       "      <td>husna</td>\n",
       "      <td>90</td>\n",
       "    </tr>\n",
       "  </tbody>\n",
       "</table>\n",
       "</div>"
      ],
      "text/plain": [
       "    Names  Marks\n",
       "1  swalih     75\n",
       "2   husna     90"
      ]
     },
     "execution_count": 7,
     "metadata": {},
     "output_type": "execute_result"
    }
   ],
   "source": [
    "df.columns=[\"Names\",\"Marks\"]\n",
    "df"
   ]
  },
  {
   "cell_type": "markdown",
   "id": "f88f5d7a-8e1c-43f4-96c3-7648731002af",
   "metadata": {
    "panel-layout": {
     "height": 43.203125,
     "visible": true,
     "width": 100
    }
   },
   "source": [
    "#### Add a new column to a DataFrame that calculates the square of another column."
   ]
  },
  {
   "cell_type": "code",
   "execution_count": 8,
   "id": "a3ae20d1-a5c2-4bf9-aa76-749de774ba7a",
   "metadata": {
    "panel-layout": {
     "height": 92,
     "visible": true,
     "width": 100
    }
   },
   "outputs": [
    {
     "data": {
      "text/html": [
       "<div>\n",
       "<style scoped>\n",
       "    .dataframe tbody tr th:only-of-type {\n",
       "        vertical-align: middle;\n",
       "    }\n",
       "\n",
       "    .dataframe tbody tr th {\n",
       "        vertical-align: top;\n",
       "    }\n",
       "\n",
       "    .dataframe thead th {\n",
       "        text-align: right;\n",
       "    }\n",
       "</style>\n",
       "<table border=\"1\" class=\"dataframe\">\n",
       "  <thead>\n",
       "    <tr style=\"text-align: right;\">\n",
       "      <th></th>\n",
       "      <th>name</th>\n",
       "      <th>mark</th>\n",
       "      <th>age</th>\n",
       "    </tr>\n",
       "  </thead>\n",
       "  <tbody>\n",
       "    <tr>\n",
       "      <th>1</th>\n",
       "      <td>swalih</td>\n",
       "      <td>75</td>\n",
       "      <td>21</td>\n",
       "    </tr>\n",
       "    <tr>\n",
       "      <th>2</th>\n",
       "      <td>husna</td>\n",
       "      <td>90</td>\n",
       "      <td>21</td>\n",
       "    </tr>\n",
       "  </tbody>\n",
       "</table>\n",
       "</div>"
      ],
      "text/plain": [
       "     name  mark  age\n",
       "1  swalih    75   21\n",
       "2   husna    90   21"
      ]
     },
     "execution_count": 8,
     "metadata": {},
     "output_type": "execute_result"
    }
   ],
   "source": [
    "dic={\n",
    "    \"name\":[\"swalih\",\"husna\"],\n",
    "    \"mark\":[75,90]\n",
    "}\n",
    "ind=[1,2]\n",
    "\n",
    "df=pd.DataFrame(dic)\n",
    "df.index=ind\n",
    "df[\"age\"]=[21,21]\n",
    "df"
   ]
  },
  {
   "cell_type": "code",
   "execution_count": 9,
   "id": "bb7ec7f3-3286-405e-9300-bce1d062f2ec",
   "metadata": {
    "panel-layout": {
     "height": 64.99993896484375,
     "visible": true,
     "width": 100
    }
   },
   "outputs": [
    {
     "data": {
      "text/html": [
       "<div>\n",
       "<style scoped>\n",
       "    .dataframe tbody tr th:only-of-type {\n",
       "        vertical-align: middle;\n",
       "    }\n",
       "\n",
       "    .dataframe tbody tr th {\n",
       "        vertical-align: top;\n",
       "    }\n",
       "\n",
       "    .dataframe thead th {\n",
       "        text-align: right;\n",
       "    }\n",
       "</style>\n",
       "<table border=\"1\" class=\"dataframe\">\n",
       "  <thead>\n",
       "    <tr style=\"text-align: right;\">\n",
       "      <th></th>\n",
       "      <th>name</th>\n",
       "      <th>mark</th>\n",
       "      <th>age</th>\n",
       "    </tr>\n",
       "  </thead>\n",
       "  <tbody>\n",
       "    <tr>\n",
       "      <th>2</th>\n",
       "      <td>husna</td>\n",
       "      <td>90</td>\n",
       "      <td>21</td>\n",
       "    </tr>\n",
       "  </tbody>\n",
       "</table>\n",
       "</div>"
      ],
      "text/plain": [
       "    name  mark  age\n",
       "2  husna    90   21"
      ]
     },
     "execution_count": 9,
     "metadata": {},
     "output_type": "execute_result"
    }
   ],
   "source": [
    "topper=df[df[\"mark\"]>80]\n",
    "topper\n"
   ]
  },
  {
   "cell_type": "code",
   "execution_count": 10,
   "id": "974b5c07-5735-432b-87f4-2daab1ae5a1b",
   "metadata": {
    "panel-layout": {
     "height": 65,
     "visible": true,
     "width": 100
    }
   },
   "outputs": [
    {
     "data": {
      "text/html": [
       "<div>\n",
       "<style scoped>\n",
       "    .dataframe tbody tr th:only-of-type {\n",
       "        vertical-align: middle;\n",
       "    }\n",
       "\n",
       "    .dataframe tbody tr th {\n",
       "        vertical-align: top;\n",
       "    }\n",
       "\n",
       "    .dataframe thead th {\n",
       "        text-align: right;\n",
       "    }\n",
       "</style>\n",
       "<table border=\"1\" class=\"dataframe\">\n",
       "  <thead>\n",
       "    <tr style=\"text-align: right;\">\n",
       "      <th></th>\n",
       "      <th>name</th>\n",
       "    </tr>\n",
       "  </thead>\n",
       "  <tbody>\n",
       "    <tr>\n",
       "      <th>2</th>\n",
       "      <td>husna</td>\n",
       "    </tr>\n",
       "  </tbody>\n",
       "</table>\n",
       "</div>"
      ],
      "text/plain": [
       "    name\n",
       "2  husna"
      ]
     },
     "execution_count": 10,
     "metadata": {},
     "output_type": "execute_result"
    }
   ],
   "source": [
    "name=topper[\"name\"]\n",
    "name.to_frame()"
   ]
  },
  {
   "cell_type": "code",
   "execution_count": 11,
   "id": "4d9869a0-8c9a-4d65-96e3-c951c471d647",
   "metadata": {},
   "outputs": [
    {
     "data": {
      "text/html": [
       "<div>\n",
       "<style scoped>\n",
       "    .dataframe tbody tr th:only-of-type {\n",
       "        vertical-align: middle;\n",
       "    }\n",
       "\n",
       "    .dataframe tbody tr th {\n",
       "        vertical-align: top;\n",
       "    }\n",
       "\n",
       "    .dataframe thead th {\n",
       "        text-align: right;\n",
       "    }\n",
       "</style>\n",
       "<table border=\"1\" class=\"dataframe\">\n",
       "  <thead>\n",
       "    <tr style=\"text-align: right;\">\n",
       "      <th></th>\n",
       "      <th>1</th>\n",
       "      <th>2</th>\n",
       "    </tr>\n",
       "  </thead>\n",
       "  <tbody>\n",
       "    <tr>\n",
       "      <th>name</th>\n",
       "      <td>swalih</td>\n",
       "      <td>husna</td>\n",
       "    </tr>\n",
       "    <tr>\n",
       "      <th>mark</th>\n",
       "      <td>75</td>\n",
       "      <td>90</td>\n",
       "    </tr>\n",
       "    <tr>\n",
       "      <th>age</th>\n",
       "      <td>21</td>\n",
       "      <td>21</td>\n",
       "    </tr>\n",
       "  </tbody>\n",
       "</table>\n",
       "</div>"
      ],
      "text/plain": [
       "           1      2\n",
       "name  swalih  husna\n",
       "mark      75     90\n",
       "age       21     21"
      ]
     },
     "execution_count": 11,
     "metadata": {},
     "output_type": "execute_result"
    }
   ],
   "source": [
    "df.T"
   ]
  },
  {
   "cell_type": "markdown",
   "id": "b4ca768a-f379-4fe5-a9df-9d7309b7cadb",
   "metadata": {},
   "source": [
    "#### creat a dic and convert into dataframe"
   ]
  },
  {
   "cell_type": "code",
   "execution_count": null,
   "id": "ba5e5370-1ca9-427b-9958-5e849e310bb1",
   "metadata": {},
   "outputs": [
    {
     "name": "stdout",
     "output_type": "stream",
     "text": [
      "       Name  Age\n",
      "0     Alice   25\n",
      "1       Bob   30\n",
      "2   Charlie   22\n",
      "3     David   28\n",
      "4       Eva   35\n",
      "5     Frank   40\n",
      "6     Grace   27\n",
      "7    Hannah   32\n",
      "8       Ian   29\n",
      "9      Jack   24\n",
      "10    Karen   31\n",
      "11      Leo   26\n",
      "12     Mona   33\n",
      "13     Nina   21\n",
      "14    Oscar   38\n",
      "15     Paul   36\n",
      "16   Quincy   23\n",
      "17   Rachel   34\n",
      "18    Steve   29\n",
      "19     Tina   28\n"
     ]
    }
   ],
   "source": [
    "\n",
    "\n",
    "data = {\n",
    "    \"Name\": [\n",
    "        \"Alice\", \"Bob\", \"Charlie\", \"David\", \"Eva\",\n",
    "        \"Frank\", \"Grace\", \"Hannah\", \"Ian\", \"Jack\",\n",
    "        \"Karen\", \"Leo\", \"Mona\", \"Nina\", \"Oscar\",\n",
    "        \"Paul\", \"Quincy\", \"Rachel\", \"Steve\", \"Tina\"\n",
    "    ],\n",
    "    \"Age\": [\n",
    "        25, 30, 22, 28, 35,\n",
    "        40, 27, 32, 29, 24,\n",
    "        31, 26, 33, 21, 38,\n",
    "        36, 23, 34, 29, 28\n",
    "    ]\n",
    "}\n",
    "\n",
    "df = pd.DataFrame(data)\n",
    "print(df)\n"
   ]
  },
  {
   "cell_type": "code",
   "execution_count": null,
   "id": "2de110dc-1d84-4510-8765-526537b7ca42",
   "metadata": {},
   "outputs": [],
   "source": []
  },
  {
   "cell_type": "code",
   "execution_count": null,
   "id": "7d34bf32-040b-469a-9867-9e222c2e677a",
   "metadata": {},
   "outputs": [],
   "source": []
  },
  {
   "cell_type": "code",
   "execution_count": null,
   "id": "82490c00-33f1-4f07-99ee-a6ed94b01c64",
   "metadata": {},
   "outputs": [],
   "source": []
  }
 ],
 "metadata": {
  "kernelspec": {
   "display_name": "Python 3",
   "language": "python",
   "name": "python3"
  },
  "language_info": {
   "codemirror_mode": {
    "name": "ipython",
    "version": 3
   },
   "file_extension": ".py",
   "mimetype": "text/x-python",
   "name": "python",
   "nbconvert_exporter": "python",
   "pygments_lexer": "ipython3",
   "version": "3.13.3"
  },
  "panel-cell-order": [
   "bfb25b1b-7ae5-4106-9db6-7ae6dda2715e",
   "aba50b9f-e19c-44f2-9fef-6194b2a45a40",
   "07132993-bc8c-4401-a8ad-4c48e69afcfc",
   "79b2c5ac-2f51-4853-9a69-4750cba03410",
   "b1f1b1d4-1940-4926-82ec-4956f1a9d507",
   "ba74e046-282f-4f5f-ac2a-52b5bfeb351d",
   "502326f5-e704-4020-a597-aa64d081d8bf",
   "20ddf8e2-36b6-4b64-a855-2bdc2bba18c7",
   "f88f5d7a-8e1c-43f4-96c3-7648731002af",
   "a3ae20d1-a5c2-4bf9-aa76-749de774ba7a",
   "bb7ec7f3-3286-405e-9300-bce1d062f2ec",
   "974b5c07-5735-432b-87f4-2daab1ae5a1b"
  ]
 },
 "nbformat": 4,
 "nbformat_minor": 5
}
