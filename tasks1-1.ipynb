{
 "cells": [
  {
   "cell_type": "code",
   "execution_count": 12,
   "id": "09596f72",
   "metadata": {},
   "outputs": [],
   "source": [
    "import pandas as pd\n",
    "import numpy as np"
   ]
  },
  {
   "cell_type": "code",
   "execution_count": 6,
   "id": "06dfb2fc",
   "metadata": {},
   "outputs": [
    {
     "data": {
      "text/plain": [
       "0    10\n",
       "1    20\n",
       "2    30\n",
       "3    40\n",
       "dtype: int64"
      ]
     },
     "execution_count": 6,
     "metadata": {},
     "output_type": "execute_result"
    }
   ],
   "source": [
    "s=pd.Series([10,20,30,40])\n",
    "s"
   ]
  },
  {
   "cell_type": "code",
   "execution_count": 3,
   "id": "ce50eec1",
   "metadata": {},
   "outputs": [
    {
     "data": {
      "text/plain": [
       "(4,)"
      ]
     },
     "execution_count": 3,
     "metadata": {},
     "output_type": "execute_result"
    }
   ],
   "source": [
    "s.shape"
   ]
  },
  {
   "cell_type": "code",
   "execution_count": 7,
   "id": "ca6960de",
   "metadata": {},
   "outputs": [
    {
     "data": {
      "text/plain": [
       "RangeIndex(start=0, stop=4, step=1)"
      ]
     },
     "execution_count": 7,
     "metadata": {},
     "output_type": "execute_result"
    }
   ],
   "source": [
    "s.index"
   ]
  },
  {
   "cell_type": "code",
   "execution_count": 8,
   "id": "a3338b8b",
   "metadata": {},
   "outputs": [
    {
     "data": {
      "text/plain": [
       "{'name': ['ali', 'sara', 'john'], 'age': [20, 21, 22], 'mark': [85, 90, 95]}"
      ]
     },
     "execution_count": 8,
     "metadata": {},
     "output_type": "execute_result"
    }
   ],
   "source": [
    "data={\n",
    "    \"name\":[\"ali\",\"sara\",\"john\"],\n",
    "    \"age\":[20,21,22],\n",
    "    \"mark\":[85,90,95]\n",
    "}\n",
    "data"
   ]
  },
  {
   "cell_type": "code",
   "execution_count": 10,
   "id": "e3a5e16f",
   "metadata": {},
   "outputs": [
    {
     "data": {
      "text/html": [
       "<div>\n",
       "<style scoped>\n",
       "    .dataframe tbody tr th:only-of-type {\n",
       "        vertical-align: middle;\n",
       "    }\n",
       "\n",
       "    .dataframe tbody tr th {\n",
       "        vertical-align: top;\n",
       "    }\n",
       "\n",
       "    .dataframe thead th {\n",
       "        text-align: right;\n",
       "    }\n",
       "</style>\n",
       "<table border=\"1\" class=\"dataframe\">\n",
       "  <thead>\n",
       "    <tr style=\"text-align: right;\">\n",
       "      <th></th>\n",
       "      <th>name</th>\n",
       "      <th>age</th>\n",
       "      <th>mark</th>\n",
       "    </tr>\n",
       "  </thead>\n",
       "  <tbody>\n",
       "    <tr>\n",
       "      <th>0</th>\n",
       "      <td>ali</td>\n",
       "      <td>20</td>\n",
       "      <td>85</td>\n",
       "    </tr>\n",
       "    <tr>\n",
       "      <th>1</th>\n",
       "      <td>sara</td>\n",
       "      <td>21</td>\n",
       "      <td>90</td>\n",
       "    </tr>\n",
       "    <tr>\n",
       "      <th>2</th>\n",
       "      <td>john</td>\n",
       "      <td>22</td>\n",
       "      <td>95</td>\n",
       "    </tr>\n",
       "  </tbody>\n",
       "</table>\n",
       "</div>"
      ],
      "text/plain": [
       "   name  age  mark\n",
       "0   ali   20    85\n",
       "1  sara   21    90\n",
       "2  john   22    95"
      ]
     },
     "execution_count": 10,
     "metadata": {},
     "output_type": "execute_result"
    }
   ],
   "source": [
    "df=pd.DataFrame(data)\n",
    "df"
   ]
  },
  {
   "cell_type": "code",
   "execution_count": 11,
   "id": "c3ab162a",
   "metadata": {},
   "outputs": [
    {
     "name": "stdout",
     "output_type": "stream",
     "text": [
      "Columns: Index(['name', 'age', 'mark'], dtype='object')\n"
     ]
    }
   ],
   "source": [
    "print(\"Columns:\", df.columns)"
   ]
  },
  {
   "cell_type": "code",
   "execution_count": 14,
   "id": "af6fb2da",
   "metadata": {},
   "outputs": [
    {
     "data": {
      "text/plain": [
       "array([1, 2, 3, 4, 5, 6, 7, 8, 9])"
      ]
     },
     "execution_count": 14,
     "metadata": {},
     "output_type": "execute_result"
    }
   ],
   "source": [
    "a=np.arange(1,10)\n",
    "a"
   ]
  },
  {
   "cell_type": "code",
   "execution_count": 17,
   "id": "34c9184b",
   "metadata": {},
   "outputs": [
    {
     "data": {
      "text/plain": [
       "0    1\n",
       "1    2\n",
       "2    3\n",
       "3    4\n",
       "4    5\n",
       "5    6\n",
       "6    7\n",
       "7    8\n",
       "8    9\n",
       "dtype: int64"
      ]
     },
     "execution_count": 17,
     "metadata": {},
     "output_type": "execute_result"
    }
   ],
   "source": [
    "s1=pd.Series(a)\n",
    "s1"
   ]
  },
  {
   "cell_type": "code",
   "execution_count": 18,
   "id": "8ad89a5a",
   "metadata": {},
   "outputs": [
    {
     "name": "stdout",
     "output_type": "stream",
     "text": [
      "a    1\n",
      "b    2\n",
      "c    3\n",
      "dtype: int64\n"
     ]
    }
   ],
   "source": [
    "data = {'a': 1, 'b': 2, 'c': 3}\n",
    "s3 = pd.Series(data)\n",
    "print(s3)\n"
   ]
  },
  {
   "cell_type": "code",
   "execution_count": 19,
   "id": "dfb153ec",
   "metadata": {},
   "outputs": [
    {
     "name": "stdout",
     "output_type": "stream",
     "text": [
      "   Name  Age\n",
      "0   Ali   23\n",
      "1  Sara   25\n",
      "2  John   22\n"
     ]
    }
   ],
   "source": [
    "data = {\n",
    "    \"Name\": [\"Ali\", \"Sara\", \"John\"],\n",
    "    \"Age\": [23, 25, 22]\n",
    "}\n",
    "df = pd.DataFrame(data)\n",
    "print(df)\n"
   ]
  },
  {
   "cell_type": "code",
   "execution_count": 20,
   "id": "7784d1a9",
   "metadata": {},
   "outputs": [
    {
     "name": "stdout",
     "output_type": "stream",
     "text": [
      "   Name  Age\n",
      "0   Ali   23\n",
      "1  Sara   25\n",
      "2  John   22\n"
     ]
    }
   ],
   "source": [
    "data = [\n",
    "    {\"Name\": \"Ali\", \"Age\": 23},\n",
    "    {\"Name\": \"Sara\", \"Age\": 25},\n",
    "    {\"Name\": \"John\", \"Age\": 22}\n",
    "]\n",
    "df2 = pd.DataFrame(data)\n",
    "print(df2)\n"
   ]
  },
  {
   "cell_type": "code",
   "execution_count": 24,
   "id": "4857bedb",
   "metadata": {},
   "outputs": [
    {
     "name": "stdout",
     "output_type": "stream",
     "text": [
      "[[1 2 3]\n",
      " [4 5 6]\n",
      " [7 8 9]]\n",
      "   A  B  C\n",
      "0  1  2  3\n",
      "1  4  5  6\n",
      "2  7  8  9\n"
     ]
    }
   ],
   "source": [
    "arr = np.array([[1,2,3],[4,5,6],[7,8,9]])\n",
    "print(arr)\n",
    "df3 = pd.DataFrame(arr, columns=['A','B','C'])\n",
    "print(df3)\n",
    "\n"
   ]
  },
  {
   "cell_type": "code",
   "execution_count": 25,
   "id": "d0b950cf",
   "metadata": {},
   "outputs": [
    {
     "data": {
      "text/html": [
       "<div>\n",
       "<style scoped>\n",
       "    .dataframe tbody tr th:only-of-type {\n",
       "        vertical-align: middle;\n",
       "    }\n",
       "\n",
       "    .dataframe tbody tr th {\n",
       "        vertical-align: top;\n",
       "    }\n",
       "\n",
       "    .dataframe thead th {\n",
       "        text-align: right;\n",
       "    }\n",
       "</style>\n",
       "<table border=\"1\" class=\"dataframe\">\n",
       "  <thead>\n",
       "    <tr style=\"text-align: right;\">\n",
       "      <th></th>\n",
       "      <th>Age</th>\n",
       "    </tr>\n",
       "  </thead>\n",
       "  <tbody>\n",
       "    <tr>\n",
       "      <th>count</th>\n",
       "      <td>3.000000</td>\n",
       "    </tr>\n",
       "    <tr>\n",
       "      <th>mean</th>\n",
       "      <td>23.333333</td>\n",
       "    </tr>\n",
       "    <tr>\n",
       "      <th>std</th>\n",
       "      <td>1.527525</td>\n",
       "    </tr>\n",
       "    <tr>\n",
       "      <th>min</th>\n",
       "      <td>22.000000</td>\n",
       "    </tr>\n",
       "    <tr>\n",
       "      <th>25%</th>\n",
       "      <td>22.500000</td>\n",
       "    </tr>\n",
       "    <tr>\n",
       "      <th>50%</th>\n",
       "      <td>23.000000</td>\n",
       "    </tr>\n",
       "    <tr>\n",
       "      <th>75%</th>\n",
       "      <td>24.000000</td>\n",
       "    </tr>\n",
       "    <tr>\n",
       "      <th>max</th>\n",
       "      <td>25.000000</td>\n",
       "    </tr>\n",
       "  </tbody>\n",
       "</table>\n",
       "</div>"
      ],
      "text/plain": [
       "             Age\n",
       "count   3.000000\n",
       "mean   23.333333\n",
       "std     1.527525\n",
       "min    22.000000\n",
       "25%    22.500000\n",
       "50%    23.000000\n",
       "75%    24.000000\n",
       "max    25.000000"
      ]
     },
     "execution_count": 25,
     "metadata": {},
     "output_type": "execute_result"
    }
   ],
   "source": [
    "df.describe()"
   ]
  },
  {
   "cell_type": "code",
   "execution_count": 26,
   "id": "1a0f3145",
   "metadata": {},
   "outputs": [
    {
     "name": "stdout",
     "output_type": "stream",
     "text": [
      "<class 'pandas.core.frame.DataFrame'>\n",
      "RangeIndex: 3 entries, 0 to 2\n",
      "Data columns (total 2 columns):\n",
      " #   Column  Non-Null Count  Dtype \n",
      "---  ------  --------------  ----- \n",
      " 0   Name    3 non-null      object\n",
      " 1   Age     3 non-null      int64 \n",
      "dtypes: int64(1), object(1)\n",
      "memory usage: 180.0+ bytes\n"
     ]
    }
   ],
   "source": [
    "df.info()"
   ]
  },
  {
   "cell_type": "code",
   "execution_count": 66,
   "id": "874d0f65",
   "metadata": {},
   "outputs": [],
   "source": [
    "s=pd.Series([10,20,30,40,'a'])\n"
   ]
  },
  {
   "cell_type": "code",
   "execution_count": 67,
   "id": "6cfd7de4",
   "metadata": {},
   "outputs": [
    {
     "data": {
      "text/plain": [
       "array([10, 20, 30, 40, 'a'], dtype=object)"
      ]
     },
     "execution_count": 67,
     "metadata": {},
     "output_type": "execute_result"
    }
   ],
   "source": [
    "a.values"
   ]
  },
  {
   "cell_type": "code",
   "execution_count": 68,
   "id": "b8d8a2b0",
   "metadata": {},
   "outputs": [
    {
     "data": {
      "text/plain": [
       "RangeIndex(start=0, stop=5, step=1)"
      ]
     },
     "execution_count": 68,
     "metadata": {},
     "output_type": "execute_result"
    }
   ],
   "source": [
    "a.index\n"
   ]
  },
  {
   "cell_type": "code",
   "execution_count": 69,
   "id": "e2cef8b0",
   "metadata": {},
   "outputs": [],
   "source": [
    "s.name"
   ]
  },
  {
   "cell_type": "code",
   "execution_count": 70,
   "id": "98f6bf7c",
   "metadata": {},
   "outputs": [],
   "source": [
    "s.name=\"numbers\"\n"
   ]
  },
  {
   "cell_type": "code",
   "execution_count": 71,
   "id": "94ce43e2",
   "metadata": {},
   "outputs": [
    {
     "data": {
      "text/plain": [
       "0    10\n",
       "1    20\n",
       "2    30\n",
       "3    40\n",
       "4     a\n",
       "Name: numbers, dtype: object"
      ]
     },
     "execution_count": 71,
     "metadata": {},
     "output_type": "execute_result"
    }
   ],
   "source": [
    "s"
   ]
  },
  {
   "cell_type": "code",
   "execution_count": 72,
   "id": "19aa9864",
   "metadata": {},
   "outputs": [],
   "source": [
    "#### indexing"
   ]
  },
  {
   "cell_type": "code",
   "execution_count": 73,
   "id": "aa2de59c",
   "metadata": {},
   "outputs": [
    {
     "data": {
      "text/plain": [
       "10"
      ]
     },
     "execution_count": 73,
     "metadata": {},
     "output_type": "execute_result"
    }
   ],
   "source": [
    "s[0]"
   ]
  },
  {
   "cell_type": "code",
   "execution_count": 74,
   "id": "c9fec21c",
   "metadata": {},
   "outputs": [
    {
     "data": {
      "text/plain": [
       "0    10\n",
       "1    20\n",
       "Name: numbers, dtype: object"
      ]
     },
     "execution_count": 74,
     "metadata": {},
     "output_type": "execute_result"
    }
   ],
   "source": [
    "s[0:2]"
   ]
  },
  {
   "cell_type": "code",
   "execution_count": 75,
   "id": "f609b292",
   "metadata": {},
   "outputs": [],
   "source": [
    "## i-> location based indexing"
   ]
  },
  {
   "cell_type": "code",
   "execution_count": 76,
   "id": "066a7511",
   "metadata": {},
   "outputs": [
    {
     "data": {
      "text/plain": [
       "40"
      ]
     },
     "execution_count": 76,
     "metadata": {},
     "output_type": "execute_result"
    }
   ],
   "source": [
    "s.iloc[3]"
   ]
  },
  {
   "cell_type": "code",
   "execution_count": 77,
   "id": "6c353a17",
   "metadata": {},
   "outputs": [
    {
     "data": {
      "text/plain": [
       "0    10\n",
       "1    20\n",
       "Name: numbers, dtype: object"
      ]
     },
     "execution_count": 77,
     "metadata": {},
     "output_type": "execute_result"
    }
   ],
   "source": [
    "s[[0,1]]"
   ]
  },
  {
   "cell_type": "code",
   "execution_count": 78,
   "id": "b66a3f24",
   "metadata": {},
   "outputs": [
    {
     "data": {
      "text/plain": [
       "0    10\n",
       "1    20\n",
       "Name: numbers, dtype: object"
      ]
     },
     "execution_count": 78,
     "metadata": {},
     "output_type": "execute_result"
    }
   ],
   "source": [
    "s.iloc[[0,1]]"
   ]
  },
  {
   "cell_type": "code",
   "execution_count": 81,
   "id": "8c5796bf",
   "metadata": {},
   "outputs": [],
   "source": [
    "inde=[\"a\",\"b\",\"c\",\"d\",\"f\"]"
   ]
  },
  {
   "cell_type": "code",
   "execution_count": 82,
   "id": "a73feac4",
   "metadata": {},
   "outputs": [],
   "source": [
    "s.index=inde"
   ]
  },
  {
   "cell_type": "code",
   "execution_count": 83,
   "id": "a2f3ef19",
   "metadata": {},
   "outputs": [
    {
     "data": {
      "text/plain": [
       "a    10\n",
       "b    20\n",
       "c    30\n",
       "d    40\n",
       "f     a\n",
       "Name: numbers, dtype: object"
      ]
     },
     "execution_count": 83,
     "metadata": {},
     "output_type": "execute_result"
    }
   ],
   "source": [
    "s"
   ]
  },
  {
   "cell_type": "code",
   "execution_count": 84,
   "id": "047b597e",
   "metadata": {},
   "outputs": [
    {
     "data": {
      "text/plain": [
       "10"
      ]
     },
     "execution_count": 84,
     "metadata": {},
     "output_type": "execute_result"
    }
   ],
   "source": [
    "s[\"a\"]"
   ]
  },
  {
   "cell_type": "code",
   "execution_count": 85,
   "id": "2265cd24",
   "metadata": {},
   "outputs": [
    {
     "name": "stdout",
     "output_type": "stream",
     "text": [
      "10\n"
     ]
    },
    {
     "data": {
      "text/plain": [
       "a    10\n",
       "b    20\n",
       "c    30\n",
       "d    40\n",
       "Name: numbers, dtype: object"
      ]
     },
     "execution_count": 85,
     "metadata": {},
     "output_type": "execute_result"
    }
   ],
   "source": [
    "##loc -> label based indexing\n",
    "# in label based indexing  your start as well as stop values bots are included in output\n",
    "print(s.loc[\"a\"])\n",
    "s.loc[\"a\":\"d\"]"
   ]
  },
  {
   "cell_type": "code",
   "execution_count": 86,
   "id": "6cb6c54d",
   "metadata": {},
   "outputs": [
    {
     "data": {
      "text/plain": [
       "10"
      ]
     },
     "execution_count": 86,
     "metadata": {},
     "output_type": "execute_result"
    }
   ],
   "source": [
    "s.loc[\"a\"]"
   ]
  },
  {
   "cell_type": "code",
   "execution_count": 88,
   "id": "88928e40",
   "metadata": {},
   "outputs": [],
   "source": [
    "s1={\n",
    "    \"apple\":10,\n",
    "    \"banana\":80,\n",
    "    \"avacado\":70,\n",
    "    \"mango\":50,\n",
    "    \"kiwi\":60\n",
    "\n",
    "}"
   ]
  },
  {
   "cell_type": "code",
   "execution_count": 94,
   "id": "d0347e2b",
   "metadata": {},
   "outputs": [
    {
     "name": "stdout",
     "output_type": "stream",
     "text": [
      "         protein\n",
      "apple         10\n",
      "banana        80\n",
      "avacado       70\n",
      "mango         50\n",
      "kiwi          60\n"
     ]
    }
   ],
   "source": [
    "s2=pd.Series(s1,name=\"protein\")\n",
    "df=s2.to_frame()\n",
    "print(df)"
   ]
  },
  {
   "cell_type": "code",
   "execution_count": 95,
   "id": "abdf434f",
   "metadata": {},
   "outputs": [
    {
     "data": {
      "text/plain": [
       "dtype('int64')"
      ]
     },
     "execution_count": 95,
     "metadata": {},
     "output_type": "execute_result"
    }
   ],
   "source": [
    "s2.dtype"
   ]
  },
  {
   "cell_type": "code",
   "execution_count": 97,
   "id": "1bd95d41",
   "metadata": {},
   "outputs": [
    {
     "data": {
      "text/plain": [
       "60"
      ]
     },
     "execution_count": 97,
     "metadata": {},
     "output_type": "execute_result"
    }
   ],
   "source": [
    "s1[\"kiwi\"]"
   ]
  },
  {
   "cell_type": "code",
   "execution_count": null,
   "id": "cffc471c",
   "metadata": {},
   "outputs": [],
   "source": []
  },
  {
   "cell_type": "markdown",
   "id": "fcb395f5",
   "metadata": {},
   "source": [
    "## tasks"
   ]
  },
  {
   "cell_type": "markdown",
   "id": "7a2d1f2c",
   "metadata": {},
   "source": [
    "### Create a Series from a Python list."
   ]
  },
  {
   "cell_type": "markdown",
   "id": "1f3e02a9",
   "metadata": {},
   "source": []
  },
  {
   "cell_type": "code",
   "execution_count": 99,
   "id": "fdacdbdf",
   "metadata": {},
   "outputs": [
    {
     "data": {
      "text/plain": [
       "0    10\n",
       "1    20\n",
       "2    30\n",
       "3    40\n",
       "4    50\n",
       "dtype: int64"
      ]
     },
     "execution_count": 99,
     "metadata": {},
     "output_type": "execute_result"
    }
   ],
   "source": [
    "a=[10, 20, 30, 40,50 ]\n",
    "s1=pd.Series(a)\n",
    "s1"
   ]
  },
  {
   "cell_type": "markdown",
   "id": "0268e62a",
   "metadata": {},
   "source": [
    "### Create a DataFrame from a dictionary.\n"
   ]
  },
  {
   "cell_type": "code",
   "execution_count": 104,
   "id": "f99f3d41",
   "metadata": {},
   "outputs": [],
   "source": [
    "dic={\n",
    "    \"name\":[\"luffy\",\"zoro\",\"sanji\"],\n",
    "    \"age\":[19,22,21],\n",
    "    \"position\":[\"captain\",\"swords man\",\"cook\"]\n",
    "}"
   ]
  },
  {
   "cell_type": "code",
   "execution_count": 105,
   "id": "3be6dbb6",
   "metadata": {},
   "outputs": [
    {
     "data": {
      "text/plain": [
       "{'name': ['luffy', 'zoro', 'sanji'],\n",
       " 'age': [19, 22, 21],\n",
       " 'position': ['captain', 'swords man', 'cook']}"
      ]
     },
     "execution_count": 105,
     "metadata": {},
     "output_type": "execute_result"
    }
   ],
   "source": [
    "dic"
   ]
  },
  {
   "cell_type": "code",
   "execution_count": 106,
   "id": "d5e70739",
   "metadata": {},
   "outputs": [
    {
     "data": {
      "text/html": [
       "<div>\n",
       "<style scoped>\n",
       "    .dataframe tbody tr th:only-of-type {\n",
       "        vertical-align: middle;\n",
       "    }\n",
       "\n",
       "    .dataframe tbody tr th {\n",
       "        vertical-align: top;\n",
       "    }\n",
       "\n",
       "    .dataframe thead th {\n",
       "        text-align: right;\n",
       "    }\n",
       "</style>\n",
       "<table border=\"1\" class=\"dataframe\">\n",
       "  <thead>\n",
       "    <tr style=\"text-align: right;\">\n",
       "      <th></th>\n",
       "      <th>name</th>\n",
       "      <th>age</th>\n",
       "      <th>position</th>\n",
       "    </tr>\n",
       "  </thead>\n",
       "  <tbody>\n",
       "    <tr>\n",
       "      <th>0</th>\n",
       "      <td>luffy</td>\n",
       "      <td>19</td>\n",
       "      <td>captain</td>\n",
       "    </tr>\n",
       "    <tr>\n",
       "      <th>1</th>\n",
       "      <td>zoro</td>\n",
       "      <td>22</td>\n",
       "      <td>swords man</td>\n",
       "    </tr>\n",
       "    <tr>\n",
       "      <th>2</th>\n",
       "      <td>sanji</td>\n",
       "      <td>21</td>\n",
       "      <td>cook</td>\n",
       "    </tr>\n",
       "  </tbody>\n",
       "</table>\n",
       "</div>"
      ],
      "text/plain": [
       "    name  age    position\n",
       "0  luffy   19     captain\n",
       "1   zoro   22  swords man\n",
       "2  sanji   21        cook"
      ]
     },
     "execution_count": 106,
     "metadata": {},
     "output_type": "execute_result"
    }
   ],
   "source": [
    "s2=pd.DataFrame(dic)\n",
    "s2"
   ]
  },
  {
   "cell_type": "code",
   "execution_count": 107,
   "id": "3585515e",
   "metadata": {},
   "outputs": [
    {
     "data": {
      "text/plain": [
       "(3, 3)"
      ]
     },
     "execution_count": 107,
     "metadata": {},
     "output_type": "execute_result"
    }
   ],
   "source": [
    "s2.shape"
   ]
  },
  {
   "cell_type": "code",
   "execution_count": 108,
   "id": "a3c0a589",
   "metadata": {},
   "outputs": [
    {
     "data": {
      "text/plain": [
       "Index(['name', 'age', 'position'], dtype='object')"
      ]
     },
     "execution_count": 108,
     "metadata": {},
     "output_type": "execute_result"
    }
   ],
   "source": [
    "s2.columns"
   ]
  },
  {
   "cell_type": "markdown",
   "id": "dce15ddc",
   "metadata": {},
   "source": [
    "### Create a Series of numbers 1–10."
   ]
  },
  {
   "cell_type": "code",
   "execution_count": 111,
   "id": "8bb01b91",
   "metadata": {},
   "outputs": [
    {
     "data": {
      "text/plain": [
       "a     1\n",
       "b     2\n",
       "c     3\n",
       "d     4\n",
       "f     5\n",
       "g     6\n",
       "h     7\n",
       "i     8\n",
       "j     9\n",
       "k    10\n",
       "dtype: int64"
      ]
     },
     "execution_count": 111,
     "metadata": {},
     "output_type": "execute_result"
    }
   ],
   "source": [
    "s=pd.Series(range(1,11))\n",
    "ind=[\"a\",\"b\",\"c\",\"d\",\"f\",\"g\",\"h\",\"i\",\"j\",\"k\"]\n",
    "s.index=ind\n",
    "s"
   ]
  },
  {
   "cell_type": "markdown",
   "id": "b6ca9756",
   "metadata": {},
   "source": [
    "### Create a DataFrame with two columns: Name, Age."
   ]
  },
  {
   "cell_type": "code",
   "execution_count": 112,
   "id": "dc0e69a5",
   "metadata": {},
   "outputs": [
    {
     "data": {
      "text/html": [
       "<div>\n",
       "<style scoped>\n",
       "    .dataframe tbody tr th:only-of-type {\n",
       "        vertical-align: middle;\n",
       "    }\n",
       "\n",
       "    .dataframe tbody tr th {\n",
       "        vertical-align: top;\n",
       "    }\n",
       "\n",
       "    .dataframe thead th {\n",
       "        text-align: right;\n",
       "    }\n",
       "</style>\n",
       "<table border=\"1\" class=\"dataframe\">\n",
       "  <thead>\n",
       "    <tr style=\"text-align: right;\">\n",
       "      <th></th>\n",
       "      <th>name</th>\n",
       "      <th>age</th>\n",
       "    </tr>\n",
       "  </thead>\n",
       "  <tbody>\n",
       "    <tr>\n",
       "      <th>0</th>\n",
       "      <td>tanjiro</td>\n",
       "      <td>17</td>\n",
       "    </tr>\n",
       "    <tr>\n",
       "      <th>1</th>\n",
       "      <td>zenitsu</td>\n",
       "      <td>18</td>\n",
       "    </tr>\n",
       "    <tr>\n",
       "      <th>2</th>\n",
       "      <td>inuske</td>\n",
       "      <td>16</td>\n",
       "    </tr>\n",
       "  </tbody>\n",
       "</table>\n",
       "</div>"
      ],
      "text/plain": [
       "      name  age\n",
       "0  tanjiro   17\n",
       "1  zenitsu   18\n",
       "2   inuske   16"
      ]
     },
     "execution_count": 112,
     "metadata": {},
     "output_type": "execute_result"
    }
   ],
   "source": [
    "di={\n",
    "    \"name\":[\"tanjiro\",\"zenitsu\",\"inuske\"],\n",
    "    \"age\":[17,18,16]\n",
    "}\n",
    "s1=pd.DataFrame(di)\n",
    "s1"
   ]
  },
  {
   "cell_type": "markdown",
   "id": "323640e0",
   "metadata": {},
   "source": [
    "### Convert a NumPy array into a DataFrame."
   ]
  },
  {
   "cell_type": "code",
   "execution_count": 113,
   "id": "ed4b3a21",
   "metadata": {},
   "outputs": [
    {
     "data": {
      "text/plain": [
       "array([[1, 2, 3],\n",
       "       [4, 5, 6],\n",
       "       [7, 8, 9]])"
      ]
     },
     "execution_count": 113,
     "metadata": {},
     "output_type": "execute_result"
    }
   ],
   "source": [
    "a=np.arange(1,10).reshape(3,3)\n",
    "a"
   ]
  },
  {
   "cell_type": "code",
   "execution_count": 115,
   "id": "8d0b0769",
   "metadata": {},
   "outputs": [
    {
     "data": {
      "text/html": [
       "<div>\n",
       "<style scoped>\n",
       "    .dataframe tbody tr th:only-of-type {\n",
       "        vertical-align: middle;\n",
       "    }\n",
       "\n",
       "    .dataframe tbody tr th {\n",
       "        vertical-align: top;\n",
       "    }\n",
       "\n",
       "    .dataframe thead th {\n",
       "        text-align: right;\n",
       "    }\n",
       "</style>\n",
       "<table border=\"1\" class=\"dataframe\">\n",
       "  <thead>\n",
       "    <tr style=\"text-align: right;\">\n",
       "      <th></th>\n",
       "      <th>0</th>\n",
       "      <th>1</th>\n",
       "      <th>2</th>\n",
       "    </tr>\n",
       "  </thead>\n",
       "  <tbody>\n",
       "    <tr>\n",
       "      <th>0</th>\n",
       "      <td>1</td>\n",
       "      <td>2</td>\n",
       "      <td>3</td>\n",
       "    </tr>\n",
       "    <tr>\n",
       "      <th>1</th>\n",
       "      <td>4</td>\n",
       "      <td>5</td>\n",
       "      <td>6</td>\n",
       "    </tr>\n",
       "    <tr>\n",
       "      <th>2</th>\n",
       "      <td>7</td>\n",
       "      <td>8</td>\n",
       "      <td>9</td>\n",
       "    </tr>\n",
       "  </tbody>\n",
       "</table>\n",
       "</div>"
      ],
      "text/plain": [
       "   0  1  2\n",
       "0  1  2  3\n",
       "1  4  5  6\n",
       "2  7  8  9"
      ]
     },
     "execution_count": 115,
     "metadata": {},
     "output_type": "execute_result"
    }
   ],
   "source": [
    "s=pd.DataFrame(a)\n",
    "s"
   ]
  },
  {
   "cell_type": "markdown",
   "id": "450db880",
   "metadata": {},
   "source": [
    "### Rename the columns of a DataFrame."
   ]
  },
  {
   "cell_type": "code",
   "execution_count": 125,
   "id": "b5745479",
   "metadata": {},
   "outputs": [
    {
     "name": "stdout",
     "output_type": "stream",
     "text": [
      "orginal df : \n",
      "   name  age\n",
      "0   ali   23\n",
      "1  sara   24\n",
      "2  john   21\n"
     ]
    },
    {
     "data": {
      "text/html": [
       "<div>\n",
       "<style scoped>\n",
       "    .dataframe tbody tr th:only-of-type {\n",
       "        vertical-align: middle;\n",
       "    }\n",
       "\n",
       "    .dataframe tbody tr th {\n",
       "        vertical-align: top;\n",
       "    }\n",
       "\n",
       "    .dataframe thead th {\n",
       "        text-align: right;\n",
       "    }\n",
       "</style>\n",
       "<table border=\"1\" class=\"dataframe\">\n",
       "  <thead>\n",
       "    <tr style=\"text-align: right;\">\n",
       "      <th></th>\n",
       "      <th>full name</th>\n",
       "      <th>years</th>\n",
       "    </tr>\n",
       "  </thead>\n",
       "  <tbody>\n",
       "    <tr>\n",
       "      <th>0</th>\n",
       "      <td>ali</td>\n",
       "      <td>23</td>\n",
       "    </tr>\n",
       "    <tr>\n",
       "      <th>1</th>\n",
       "      <td>sara</td>\n",
       "      <td>24</td>\n",
       "    </tr>\n",
       "    <tr>\n",
       "      <th>2</th>\n",
       "      <td>john</td>\n",
       "      <td>21</td>\n",
       "    </tr>\n",
       "  </tbody>\n",
       "</table>\n",
       "</div>"
      ],
      "text/plain": [
       "  full name  years\n",
       "0       ali     23\n",
       "1      sara     24\n",
       "2      john     21"
      ]
     },
     "execution_count": 125,
     "metadata": {},
     "output_type": "execute_result"
    }
   ],
   "source": [
    "df=pd.DataFrame({\n",
    "    \"name\":[\"ali\",\"sara\",\"john\"],\n",
    "    \"age\":[23,24,21]\n",
    "})\n",
    "print(f\"orginal df : \\n{df}\")\n",
    "df.columns=[\"full name\",\"years\"]\n",
    "df"
   ]
  },
  {
   "cell_type": "markdown",
   "id": "41a89323",
   "metadata": {},
   "source": [
    "### Add a new column to a DataFrame that calculates the square of another column."
   ]
  },
  {
   "cell_type": "code",
   "execution_count": 128,
   "id": "3893ff3c",
   "metadata": {},
   "outputs": [
    {
     "name": "stdout",
     "output_type": "stream",
     "text": [
      "orginal df : \n",
      "   name  age\n",
      "0   ali   23\n",
      "1  sara   24\n",
      "2  john   21\n",
      " : \n",
      "   name  age  no of days lived  square\n",
      "0   ali   23              8395     529\n",
      "1  sara   24              8760     576\n",
      "2  john   21              7665     441\n"
     ]
    }
   ],
   "source": [
    "df=pd.DataFrame({\n",
    "    \"name\":[\"ali\",\"sara\",\"john\"],\n",
    "    \"age\":[23,24,21]\n",
    "})\n",
    "print(f\"orginal df : \\n{df}\")\n",
    "\n",
    "df[\"no of days lived\"]=df[\"age\"]*365\n",
    "df[\"square\"]=df[\"age\"]**2\n",
    "print(f\" : \\n{df}\")"
   ]
  },
  {
   "cell_type": "markdown",
   "id": "494c4c9a",
   "metadata": {},
   "source": [
    "## extra questions"
   ]
  },
  {
   "cell_type": "markdown",
   "id": "caad6fce",
   "metadata": {},
   "source": [
    "### Create a Series of the first 15 even numbers."
   ]
  },
  {
   "cell_type": "code",
   "execution_count": 130,
   "id": "9f459849",
   "metadata": {},
   "outputs": [
    {
     "data": {
      "text/plain": [
       "0      0\n",
       "1      2\n",
       "2      4\n",
       "3      6\n",
       "4      8\n",
       "5     10\n",
       "6     12\n",
       "7     14\n",
       "8     16\n",
       "9     18\n",
       "10    20\n",
       "11    22\n",
       "12    24\n",
       "13    26\n",
       "14    28\n",
       "dtype: int64"
      ]
     },
     "execution_count": 130,
     "metadata": {},
     "output_type": "execute_result"
    }
   ],
   "source": [
    "a=pd.Series(range(0,30,2))\n",
    "a"
   ]
  },
  {
   "cell_type": "markdown",
   "id": "ea2c8d4c",
   "metadata": {},
   "source": [
    "### Convert a NumPy array of 5 random integers into a Series."
   ]
  },
  {
   "cell_type": "code",
   "execution_count": 176,
   "id": "fcafc86d",
   "metadata": {},
   "outputs": [
    {
     "name": "stdout",
     "output_type": "stream",
     "text": [
      "[ 2 83 29 19 12]\n",
      "   random no\n",
      "0          2\n",
      "1         83\n",
      "2         29\n",
      "3         19\n",
      "4         12\n"
     ]
    }
   ],
   "source": [
    "a=np.random.randint(1,100,5)\n",
    "print(a)\n",
    "s1=pd.Series(a,name=\"random no\")\n",
    "s2=s1.to_frame()\n",
    "print(s2)\n"
   ]
  },
  {
   "cell_type": "markdown",
   "id": "f452614c",
   "metadata": {},
   "source": [
    "### Create a DataFrame with columns: Student, Marks, Grade for 5 students."
   ]
  },
  {
   "cell_type": "code",
   "execution_count": 140,
   "id": "a6be0650",
   "metadata": {},
   "outputs": [
    {
     "name": "stdout",
     "output_type": "stream",
     "text": [
      "     name  mark grade\n",
      "0  dustin    80     A\n",
      "1  eleven    75     B\n",
      "2    will    88     A\n",
      "3     max    90    A+\n",
      "4   erica    99     O\n"
     ]
    }
   ],
   "source": [
    "clas={\n",
    "    \"name\":[\"dustin\",\"eleven\",\"will\",\"max\",\"erica\"],\n",
    "    \"mark\":[80,75,88,90,99],\n",
    "    \"grade\":[\"A\",\"B\",\"A\",\"A+\",\"O\"]\n",
    "}\n",
    "df=pd.DataFrame(clas)\n",
    "print(df)"
   ]
  },
  {
   "cell_type": "markdown",
   "id": "0f84aaf0",
   "metadata": {},
   "source": [
    "### Add a new column “DoubleMarks” which is double the “Marks” column."
   ]
  },
  {
   "cell_type": "code",
   "execution_count": 141,
   "id": "391b682e",
   "metadata": {},
   "outputs": [
    {
     "name": "stdout",
     "output_type": "stream",
     "text": [
      "     name  marks grade\n",
      "0  dustin     80     A\n",
      "1  eleven     75     B\n",
      "2    will     88     A\n",
      "3     max     90    A+\n",
      "4   erica     99     O\n"
     ]
    },
    {
     "data": {
      "text/html": [
       "<div>\n",
       "<style scoped>\n",
       "    .dataframe tbody tr th:only-of-type {\n",
       "        vertical-align: middle;\n",
       "    }\n",
       "\n",
       "    .dataframe tbody tr th {\n",
       "        vertical-align: top;\n",
       "    }\n",
       "\n",
       "    .dataframe thead th {\n",
       "        text-align: right;\n",
       "    }\n",
       "</style>\n",
       "<table border=\"1\" class=\"dataframe\">\n",
       "  <thead>\n",
       "    <tr style=\"text-align: right;\">\n",
       "      <th></th>\n",
       "      <th>name</th>\n",
       "      <th>marks</th>\n",
       "      <th>grade</th>\n",
       "      <th>double marks</th>\n",
       "    </tr>\n",
       "  </thead>\n",
       "  <tbody>\n",
       "    <tr>\n",
       "      <th>0</th>\n",
       "      <td>dustin</td>\n",
       "      <td>80</td>\n",
       "      <td>A</td>\n",
       "      <td>160</td>\n",
       "    </tr>\n",
       "    <tr>\n",
       "      <th>1</th>\n",
       "      <td>eleven</td>\n",
       "      <td>75</td>\n",
       "      <td>B</td>\n",
       "      <td>150</td>\n",
       "    </tr>\n",
       "    <tr>\n",
       "      <th>2</th>\n",
       "      <td>will</td>\n",
       "      <td>88</td>\n",
       "      <td>A</td>\n",
       "      <td>176</td>\n",
       "    </tr>\n",
       "    <tr>\n",
       "      <th>3</th>\n",
       "      <td>max</td>\n",
       "      <td>90</td>\n",
       "      <td>A+</td>\n",
       "      <td>180</td>\n",
       "    </tr>\n",
       "    <tr>\n",
       "      <th>4</th>\n",
       "      <td>erica</td>\n",
       "      <td>99</td>\n",
       "      <td>O</td>\n",
       "      <td>198</td>\n",
       "    </tr>\n",
       "  </tbody>\n",
       "</table>\n",
       "</div>"
      ],
      "text/plain": [
       "     name  marks grade  double marks\n",
       "0  dustin     80     A           160\n",
       "1  eleven     75     B           150\n",
       "2    will     88     A           176\n",
       "3     max     90    A+           180\n",
       "4   erica     99     O           198"
      ]
     },
     "execution_count": 141,
     "metadata": {},
     "output_type": "execute_result"
    }
   ],
   "source": [
    "clas={\n",
    "    \"name\":[\"dustin\",\"eleven\",\"will\",\"max\",\"erica\"],\n",
    "    \"marks\":[80,75,88,90,99],\n",
    "    \"grade\":[\"A\",\"B\",\"A\",\"A+\",\"O\"]\n",
    "}\n",
    "df=pd.DataFrame(clas)\n",
    "print(df)\n",
    "df[\"double marks\"]=df[\"marks\"]*2\n",
    "df"
   ]
  },
  {
   "cell_type": "markdown",
   "id": "12f1517f",
   "metadata": {},
   "source": [
    "### Convert a 2×3 NumPy array into a DataFrame with column names X, Y, Z."
   ]
  },
  {
   "cell_type": "code",
   "execution_count": 145,
   "id": "6013d429",
   "metadata": {},
   "outputs": [
    {
     "name": "stdout",
     "output_type": "stream",
     "text": [
      "[[12 16  7]\n",
      " [ 5  9  6]]\n"
     ]
    },
    {
     "data": {
      "text/html": [
       "<div>\n",
       "<style scoped>\n",
       "    .dataframe tbody tr th:only-of-type {\n",
       "        vertical-align: middle;\n",
       "    }\n",
       "\n",
       "    .dataframe tbody tr th {\n",
       "        vertical-align: top;\n",
       "    }\n",
       "\n",
       "    .dataframe thead th {\n",
       "        text-align: right;\n",
       "    }\n",
       "</style>\n",
       "<table border=\"1\" class=\"dataframe\">\n",
       "  <thead>\n",
       "    <tr style=\"text-align: right;\">\n",
       "      <th></th>\n",
       "      <th>x</th>\n",
       "      <th>y</th>\n",
       "      <th>z</th>\n",
       "    </tr>\n",
       "  </thead>\n",
       "  <tbody>\n",
       "    <tr>\n",
       "      <th>0</th>\n",
       "      <td>12</td>\n",
       "      <td>16</td>\n",
       "      <td>7</td>\n",
       "    </tr>\n",
       "    <tr>\n",
       "      <th>1</th>\n",
       "      <td>5</td>\n",
       "      <td>9</td>\n",
       "      <td>6</td>\n",
       "    </tr>\n",
       "  </tbody>\n",
       "</table>\n",
       "</div>"
      ],
      "text/plain": [
       "    x   y  z\n",
       "0  12  16  7\n",
       "1   5   9  6"
      ]
     },
     "execution_count": 145,
     "metadata": {},
     "output_type": "execute_result"
    }
   ],
   "source": [
    "a=np.random.randint(1,20,size=(2,3))\n",
    "print(a)\n",
    "s1=pd.DataFrame(a)\n",
    "s1.columns=[\"x\",\"y\",\"z\"]\n",
    "s1"
   ]
  },
  {
   "cell_type": "markdown",
   "id": "5cca5a7f",
   "metadata": {},
   "source": [
    "### Create a new column “Pass/Fail” based on Marks (>= 50 → Pass, else Fail)."
   ]
  },
  {
   "cell_type": "code",
   "execution_count": 180,
   "id": "c1d610b9",
   "metadata": {},
   "outputs": [
    {
     "name": "stdout",
     "output_type": "stream",
     "text": [
      "     name  marks grade\n",
      "0  dustin     80     A\n",
      "1  eleven     75     B\n",
      "2    will     88     A\n",
      "3     max     90    A+\n",
      "4   erica     99     O\n"
     ]
    }
   ],
   "source": [
    "clas={\n",
    "    \"name\":[\"dustin\",\"eleven\",\"will\",\"max\",\"erica\"],\n",
    "    \"marks\":[80,75,88,90,99],\n",
    "    \"grade\":[\"A\",\"B\",\"A\",\"A+\",\"O\"]\n",
    "}\n",
    "df=pd.DataFrame(clas)\n",
    "print(df)\n",
    "\n",
    "\n",
    "\n",
    "df[\"marks\"]\n",
    "df[\"pass / fail \"]= np.where(df[\"marks\"]<85,'fail',\"pass\")\n",
    "df\n",
    "top=df[df[\"marks\"]>80]\n"
   ]
  },
  {
   "cell_type": "code",
   "execution_count": 181,
   "id": "848214a0",
   "metadata": {},
   "outputs": [
    {
     "data": {
      "text/html": [
       "<div>\n",
       "<style scoped>\n",
       "    .dataframe tbody tr th:only-of-type {\n",
       "        vertical-align: middle;\n",
       "    }\n",
       "\n",
       "    .dataframe tbody tr th {\n",
       "        vertical-align: top;\n",
       "    }\n",
       "\n",
       "    .dataframe thead th {\n",
       "        text-align: right;\n",
       "    }\n",
       "</style>\n",
       "<table border=\"1\" class=\"dataframe\">\n",
       "  <thead>\n",
       "    <tr style=\"text-align: right;\">\n",
       "      <th></th>\n",
       "      <th>name</th>\n",
       "      <th>marks</th>\n",
       "      <th>grade</th>\n",
       "      <th>pass / fail</th>\n",
       "    </tr>\n",
       "  </thead>\n",
       "  <tbody>\n",
       "    <tr>\n",
       "      <th>2</th>\n",
       "      <td>will</td>\n",
       "      <td>88</td>\n",
       "      <td>A</td>\n",
       "      <td>pass</td>\n",
       "    </tr>\n",
       "    <tr>\n",
       "      <th>3</th>\n",
       "      <td>max</td>\n",
       "      <td>90</td>\n",
       "      <td>A+</td>\n",
       "      <td>pass</td>\n",
       "    </tr>\n",
       "    <tr>\n",
       "      <th>4</th>\n",
       "      <td>erica</td>\n",
       "      <td>99</td>\n",
       "      <td>O</td>\n",
       "      <td>pass</td>\n",
       "    </tr>\n",
       "  </tbody>\n",
       "</table>\n",
       "</div>"
      ],
      "text/plain": [
       "    name  marks grade pass / fail \n",
       "2   will     88     A         pass\n",
       "3    max     90    A+         pass\n",
       "4  erica     99     O         pass"
      ]
     },
     "execution_count": 181,
     "metadata": {},
     "output_type": "execute_result"
    }
   ],
   "source": [
    "top"
   ]
  },
  {
   "cell_type": "markdown",
   "id": "6528e121",
   "metadata": {},
   "source": [
    "### Access the third and fifth elements from a Series."
   ]
  },
  {
   "cell_type": "code",
   "execution_count": 155,
   "id": "80fe367f",
   "metadata": {},
   "outputs": [
    {
     "name": "stdout",
     "output_type": "stream",
     "text": [
      "0    1\n",
      "1    2\n",
      "2    3\n",
      "3    4\n",
      "4    5\n",
      "5    6\n",
      "6    7\n",
      "7    8\n",
      "8    9\n",
      "dtype: int64\n"
     ]
    },
    {
     "data": {
      "text/plain": [
       "2    3\n",
       "4    5\n",
       "dtype: int64"
      ]
     },
     "execution_count": 155,
     "metadata": {},
     "output_type": "execute_result"
    }
   ],
   "source": [
    "a=pd.Series(range(1,10))\n",
    "print(a)\n",
    "a[[2,4]]"
   ]
  },
  {
   "cell_type": "code",
   "execution_count": 177,
   "id": "8b44fc15",
   "metadata": {},
   "outputs": [
    {
     "name": "stdout",
     "output_type": "stream",
     "text": [
      "   name  age\n",
      "0   ali   23\n",
      "1  sara   24\n",
      "2  john   21\n",
      "\n"
     ]
    },
    {
     "data": {
      "text/html": [
       "<div>\n",
       "<style scoped>\n",
       "    .dataframe tbody tr th:only-of-type {\n",
       "        vertical-align: middle;\n",
       "    }\n",
       "\n",
       "    .dataframe tbody tr th {\n",
       "        vertical-align: top;\n",
       "    }\n",
       "\n",
       "    .dataframe thead th {\n",
       "        text-align: right;\n",
       "    }\n",
       "</style>\n",
       "<table border=\"1\" class=\"dataframe\">\n",
       "  <thead>\n",
       "    <tr style=\"text-align: right;\">\n",
       "      <th></th>\n",
       "      <th>Name</th>\n",
       "      <th>Age</th>\n",
       "    </tr>\n",
       "  </thead>\n",
       "  <tbody>\n",
       "    <tr>\n",
       "      <th>0</th>\n",
       "      <td>Alice</td>\n",
       "      <td>25</td>\n",
       "    </tr>\n",
       "    <tr>\n",
       "      <th>1</th>\n",
       "      <td>Bob</td>\n",
       "      <td>30</td>\n",
       "    </tr>\n",
       "    <tr>\n",
       "      <th>2</th>\n",
       "      <td>Charlie</td>\n",
       "      <td>22</td>\n",
       "    </tr>\n",
       "  </tbody>\n",
       "</table>\n",
       "</div>"
      ],
      "text/plain": [
       "      Name  Age\n",
       "0    Alice   25\n",
       "1      Bob   30\n",
       "2  Charlie   22"
      ]
     },
     "execution_count": 177,
     "metadata": {},
     "output_type": "execute_result"
    }
   ],
   "source": [
    "import pandas as pd\n",
    "\n",
    "# Example DataFrame\n",
    "data = {\"Name\": [\"Alice\", \"Bob\", \"Charlie\", \"David\", \"Eva\"],\n",
    "        \"Age\": [25, 30, 22, 28, 24]}\n",
    "print(df)\n",
    "print()\n",
    "\n",
    "df = pd.DataFrame(data)\n",
    "\n",
    "\n",
    "# Access the first 3 rows\n",
    "first_three_rows = df.head(3)\n",
    "first_three_rows\n"
   ]
  },
  {
   "cell_type": "code",
   "execution_count": 167,
   "id": "42a651ab",
   "metadata": {},
   "outputs": [
    {
     "data": {
      "text/html": [
       "<div>\n",
       "<style scoped>\n",
       "    .dataframe tbody tr th:only-of-type {\n",
       "        vertical-align: middle;\n",
       "    }\n",
       "\n",
       "    .dataframe tbody tr th {\n",
       "        vertical-align: top;\n",
       "    }\n",
       "\n",
       "    .dataframe thead th {\n",
       "        text-align: right;\n",
       "    }\n",
       "</style>\n",
       "<table border=\"1\" class=\"dataframe\">\n",
       "  <thead>\n",
       "    <tr style=\"text-align: right;\">\n",
       "      <th></th>\n",
       "      <th>age</th>\n",
       "    </tr>\n",
       "  </thead>\n",
       "  <tbody>\n",
       "    <tr>\n",
       "      <th>0</th>\n",
       "      <td>23</td>\n",
       "    </tr>\n",
       "    <tr>\n",
       "      <th>1</th>\n",
       "      <td>24</td>\n",
       "    </tr>\n",
       "    <tr>\n",
       "      <th>2</th>\n",
       "      <td>21</td>\n",
       "    </tr>\n",
       "  </tbody>\n",
       "</table>\n",
       "</div>"
      ],
      "text/plain": [
       "   age\n",
       "0   23\n",
       "1   24\n",
       "2   21"
      ]
     },
     "execution_count": 167,
     "metadata": {},
     "output_type": "execute_result"
    }
   ],
   "source": [
    "df=pd.DataFrame({\n",
    "    \"name\":[\"ali\",\"sara\",\"john\"],\n",
    "    \"age\":[23,24,21]\n",
    "})\n",
    "\n",
    "df[[\"age\"]]"
   ]
  },
  {
   "cell_type": "code",
   "execution_count": 182,
   "id": "a267c87f",
   "metadata": {},
   "outputs": [
    {
     "name": "stdout",
     "output_type": "stream",
     "text": [
      "['will', 'max', 'erica']\n"
     ]
    }
   ],
   "source": [
    "import pandas as pd\n",
    "import numpy as np\n",
    "\n",
    "clas = {\n",
    "    \"name\": [\"dustin\", \"eleven\", \"will\", \"max\", \"erica\"],\n",
    "    \"marks\": [80, 75, 88, 90, 99],\n",
    "    \"grade\": [\"A\", \"B\", \"A\", \"A+\", \"O\"]\n",
    "}\n",
    "\n",
    "df = pd.DataFrame(clas)\n",
    "df[\"pass / fail\"] = np.where(df[\"marks\"] < 85, 'fail', \"pass\")\n",
    "\n",
    "# Filter based on condition\n",
    "top = df[df[\"marks\"] > 80]\n",
    "\n",
    "# Get only the names\n",
    "topper_names = top[\"name\"].tolist()\n",
    "print(topper_names)\n"
   ]
  },
  {
   "cell_type": "code",
   "execution_count": 183,
   "id": "1d91817c",
   "metadata": {},
   "outputs": [
    {
     "data": {
      "text/html": [
       "<div>\n",
       "<style scoped>\n",
       "    .dataframe tbody tr th:only-of-type {\n",
       "        vertical-align: middle;\n",
       "    }\n",
       "\n",
       "    .dataframe tbody tr th {\n",
       "        vertical-align: top;\n",
       "    }\n",
       "\n",
       "    .dataframe thead th {\n",
       "        text-align: right;\n",
       "    }\n",
       "</style>\n",
       "<table border=\"1\" class=\"dataframe\">\n",
       "  <thead>\n",
       "    <tr style=\"text-align: right;\">\n",
       "      <th></th>\n",
       "      <th>name</th>\n",
       "      <th>marks</th>\n",
       "      <th>grade</th>\n",
       "      <th>pass / fail</th>\n",
       "    </tr>\n",
       "  </thead>\n",
       "  <tbody>\n",
       "    <tr>\n",
       "      <th>2</th>\n",
       "      <td>will</td>\n",
       "      <td>88</td>\n",
       "      <td>A</td>\n",
       "      <td>pass</td>\n",
       "    </tr>\n",
       "    <tr>\n",
       "      <th>3</th>\n",
       "      <td>max</td>\n",
       "      <td>90</td>\n",
       "      <td>A+</td>\n",
       "      <td>pass</td>\n",
       "    </tr>\n",
       "    <tr>\n",
       "      <th>4</th>\n",
       "      <td>erica</td>\n",
       "      <td>99</td>\n",
       "      <td>O</td>\n",
       "      <td>pass</td>\n",
       "    </tr>\n",
       "  </tbody>\n",
       "</table>\n",
       "</div>"
      ],
      "text/plain": [
       "    name  marks grade pass / fail\n",
       "2   will     88     A        pass\n",
       "3    max     90    A+        pass\n",
       "4  erica     99     O        pass"
      ]
     },
     "execution_count": 183,
     "metadata": {},
     "output_type": "execute_result"
    }
   ],
   "source": [
    "top"
   ]
  },
  {
   "cell_type": "code",
   "execution_count": 186,
   "id": "8062a8e7",
   "metadata": {},
   "outputs": [
    {
     "name": "stdout",
     "output_type": "stream",
     "text": [
      "2     will\n",
      "3      max\n",
      "4    erica\n",
      "Name: name, dtype: object\n"
     ]
    }
   ],
   "source": [
    "import pandas as pd\n",
    "import numpy as np\n",
    "\n",
    "clas = {\n",
    "    \"name\": [\"dustin\", \"eleven\", \"will\", \"max\", \"erica\"],\n",
    "    \"marks\": [80, 75, 88, 90, 99],\n",
    "    \"grade\": [\"A\", \"B\", \"A\", \"A+\", \"O\"]\n",
    "}\n",
    "\n",
    "df = pd.DataFrame(clas)\n",
    "df[\"pass / fail\"] = np.where(df[\"marks\"] < 85, 'fail', \"pass\")\n",
    "\n",
    "# Filter based on condition\n",
    "top = df[df[\"marks\"] > 80]\n",
    "\n",
    "# Get only the names\n",
    "topper_names = top[\"name\"]\n",
    "print(topper_names)"
   ]
  },
  {
   "cell_type": "code",
   "execution_count": 187,
   "id": "d7dd283e",
   "metadata": {},
   "outputs": [
    {
     "data": {
      "text/html": [
       "<div>\n",
       "<style scoped>\n",
       "    .dataframe tbody tr th:only-of-type {\n",
       "        vertical-align: middle;\n",
       "    }\n",
       "\n",
       "    .dataframe tbody tr th {\n",
       "        vertical-align: top;\n",
       "    }\n",
       "\n",
       "    .dataframe thead th {\n",
       "        text-align: right;\n",
       "    }\n",
       "</style>\n",
       "<table border=\"1\" class=\"dataframe\">\n",
       "  <thead>\n",
       "    <tr style=\"text-align: right;\">\n",
       "      <th></th>\n",
       "      <th>name</th>\n",
       "      <th>marks</th>\n",
       "      <th>grade</th>\n",
       "      <th>pass / fail</th>\n",
       "    </tr>\n",
       "  </thead>\n",
       "  <tbody>\n",
       "    <tr>\n",
       "      <th>2</th>\n",
       "      <td>will</td>\n",
       "      <td>88</td>\n",
       "      <td>A</td>\n",
       "      <td>pass</td>\n",
       "    </tr>\n",
       "    <tr>\n",
       "      <th>3</th>\n",
       "      <td>max</td>\n",
       "      <td>90</td>\n",
       "      <td>A+</td>\n",
       "      <td>pass</td>\n",
       "    </tr>\n",
       "    <tr>\n",
       "      <th>4</th>\n",
       "      <td>erica</td>\n",
       "      <td>99</td>\n",
       "      <td>O</td>\n",
       "      <td>pass</td>\n",
       "    </tr>\n",
       "  </tbody>\n",
       "</table>\n",
       "</div>"
      ],
      "text/plain": [
       "    name  marks grade pass / fail\n",
       "2   will     88     A        pass\n",
       "3    max     90    A+        pass\n",
       "4  erica     99     O        pass"
      ]
     },
     "execution_count": 187,
     "metadata": {},
     "output_type": "execute_result"
    }
   ],
   "source": [
    "top"
   ]
  },
  {
   "cell_type": "code",
   "execution_count": 193,
   "id": "bbbdce93",
   "metadata": {},
   "outputs": [
    {
     "data": {
      "text/html": [
       "<div>\n",
       "<style scoped>\n",
       "    .dataframe tbody tr th:only-of-type {\n",
       "        vertical-align: middle;\n",
       "    }\n",
       "\n",
       "    .dataframe tbody tr th {\n",
       "        vertical-align: top;\n",
       "    }\n",
       "\n",
       "    .dataframe thead th {\n",
       "        text-align: right;\n",
       "    }\n",
       "</style>\n",
       "<table border=\"1\" class=\"dataframe\">\n",
       "  <thead>\n",
       "    <tr style=\"text-align: right;\">\n",
       "      <th></th>\n",
       "      <th>marks</th>\n",
       "    </tr>\n",
       "  </thead>\n",
       "  <tbody>\n",
       "    <tr>\n",
       "      <th>2</th>\n",
       "      <td>88</td>\n",
       "    </tr>\n",
       "    <tr>\n",
       "      <th>3</th>\n",
       "      <td>90</td>\n",
       "    </tr>\n",
       "    <tr>\n",
       "      <th>4</th>\n",
       "      <td>99</td>\n",
       "    </tr>\n",
       "  </tbody>\n",
       "</table>\n",
       "</div>"
      ],
      "text/plain": [
       "   marks\n",
       "2     88\n",
       "3     90\n",
       "4     99"
      ]
     },
     "execution_count": 193,
     "metadata": {},
     "output_type": "execute_result"
    }
   ],
   "source": [
    "topper_age= top[\"marks\"]\n",
    "topper_age.to_frame()"
   ]
  },
  {
   "cell_type": "code",
   "execution_count": 1,
   "id": "27271304",
   "metadata": {},
   "outputs": [
    {
     "name": "stdout",
     "output_type": "stream",
     "text": [
      "Topper Name: erica\n",
      "Topper Marks: 99\n"
     ]
    }
   ],
   "source": [
    "import pandas as pd\n",
    "import numpy as np\n",
    "\n",
    "clas = {\n",
    "    \"name\": [\"dustin\", \"eleven\", \"will\", \"max\", \"erica\"],\n",
    "    \"marks\": [80, 75, 88, 90, 99],\n",
    "    \"grade\": [\"A\", \"B\", \"A\", \"A+\", \"O\"]\n",
    "}\n",
    "\n",
    "df = pd.DataFrame(clas)\n",
    "df[\"pass / fail\"] = np.where(df[\"marks\"] < 85, \"fail\", \"pass\")\n",
    "\n",
    "# Find topper (highest marks)\n",
    "topper = df.loc[df[\"marks\"].idxmax()]\n",
    "\n",
    "print(\"Topper Name:\", topper[\"name\"])\n",
    "print(\"Topper Marks:\", topper[\"marks\"])\n"
   ]
  },
  {
   "cell_type": "code",
   "execution_count": null,
   "id": "2cc7cce9",
   "metadata": {},
   "outputs": [],
   "source": []
  }
 ],
 "metadata": {
  "kernelspec": {
   "display_name": "base",
   "language": "python",
   "name": "python3"
  },
  "language_info": {
   "codemirror_mode": {
    "name": "ipython",
    "version": 3
   },
   "file_extension": ".py",
   "mimetype": "text/x-python",
   "name": "python",
   "nbconvert_exporter": "python",
   "pygments_lexer": "ipython3",
   "version": "3.13.5"
  }
 },
 "nbformat": 4,
 "nbformat_minor": 5
}
