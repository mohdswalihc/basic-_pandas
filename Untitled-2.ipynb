{
 "cells": [
  {
   "cell_type": "code",
   "execution_count": 25,
   "id": "0ec42510",
   "metadata": {},
   "outputs": [
    {
     "name": "stdout",
     "output_type": "stream",
     "text": [
      "Topper Name: erica\n",
      "Topper Marks: 99\n"
     ]
    }
   ],
   "source": [
    "import pandas as pd\n",
    "import numpy as np\n",
    "\n",
    "clas = {\n",
    "    \"name\": [\"dustin\", \"eleven\", \"will\", \"max\", \"erica\"],\n",
    "    \"marks\": [80, 75, 88, 90, 99],\n",
    "    \"grade\": [\"A\", \"B\", \"A\", \"A+\", \"O\"]\n",
    "}\n",
    "\n",
    "df = pd.DataFrame(clas)\n",
    "df[\"pass / fail\"] = np.where(df[\"marks\"] < 85, \"fail\", \"pass\")\n",
    "\n",
    "# Find topper (highest marks)\n",
    "topper = df.loc[df[\"marks\"].idxmax()]\n",
    "\n",
    "print(\"Topper Name:\", topper[\"name\"])\n",
    "print(\"Topper Marks:\", topper[\"marks\"])\n"
   ]
  },
  {
   "cell_type": "code",
   "execution_count": 12,
   "id": "fcf478dd",
   "metadata": {},
   "outputs": [
    {
     "data": {
      "text/plain": [
       "'erica'"
      ]
     },
     "execution_count": 12,
     "metadata": {},
     "output_type": "execute_result"
    }
   ],
   "source": [
    "top=df.iloc[4]\n",
    "top[\"name\"]"
   ]
  },
  {
   "cell_type": "code",
   "execution_count": null,
   "id": "f70d938d",
   "metadata": {
    "vscode": {
     "languageId": "powershell"
    }
   },
   "outputs": [
    {
     "data": {
      "text/plain": [
       "np.int64(99)"
      ]
     },
     "execution_count": 15,
     "metadata": {},
     "output_type": "execute_result"
    }
   ],
   "source": [
    "p=df.loc[df[\"marks\"].idxmax(),\"marks\"]\n",
    "p"
   ]
  },
  {
   "cell_type": "code",
   "execution_count": 20,
   "id": "d999e8e1",
   "metadata": {},
   "outputs": [
    {
     "data": {
      "text/plain": [
       "'eleven'"
      ]
     },
     "execution_count": 20,
     "metadata": {},
     "output_type": "execute_result"
    }
   ],
   "source": [
    "df.loc[df[\"marks\"].idxmin(),\"name\"]"
   ]
  },
  {
   "cell_type": "code",
   "execution_count": 32,
   "id": "a0972e9c",
   "metadata": {},
   "outputs": [
    {
     "name": "stdout",
     "output_type": "stream",
     "text": [
      "Progress Card of 40 Students (SSLC):\n",
      "\n",
      "             English  Maths  Science  Social  Hindi  Total  Average Grade  \\\n",
      "Name                                                                        \n",
      "student_1         67     47       59      57     62    292     58.4     D   \n",
      "student_2         70     82       56      99     91    398     79.6     B   \n",
      "student_3         41     43       46      45     43    218     43.6  Fail   \n",
      "student_4         90     85       94      58     59    386     77.2     B   \n",
      "student_5         83     56       89      41     55    324     64.8     C   \n",
      "...              ...    ...      ...     ...    ...    ...      ...   ...   \n",
      "student_96        67     48      100      83     97    395     79.0     B   \n",
      "student_97        89     95       56      90     57    387     77.4     B   \n",
      "student_98        59     62       57      45     67    290     58.0     D   \n",
      "student_99        68     64       85      51     90    358     71.6     B   \n",
      "student_100       44     49       53      63     68    277     55.4     D   \n",
      "\n",
      "            Result  \n",
      "Name                \n",
      "student_1     Pass  \n",
      "student_2     Pass  \n",
      "student_3     Pass  \n",
      "student_4     Pass  \n",
      "student_5     Pass  \n",
      "...            ...  \n",
      "student_96    Pass  \n",
      "student_97    Pass  \n",
      "student_98    Pass  \n",
      "student_99    Pass  \n",
      "student_100   Pass  \n",
      "\n",
      "[100 rows x 9 columns]\n",
      "\n",
      "Topper of the class:\n",
      " English      88\n",
      "Maths        95\n",
      "Science      89\n",
      "Social       92\n",
      "Hindi        97\n",
      "Total       461\n",
      "Average    92.2\n",
      "Grade        A+\n",
      "Result     Pass\n",
      "Name: student_69, dtype: object\n"
     ]
    }
   ],
   "source": [
    "import pandas as pd\n",
    "import numpy as np\n",
    "\n",
    "# Create 40 student names\n",
    "names = [f\"student_{i+1}\" for i in range(100)]\n",
    "\n",
    "# Subjects in SSLC\n",
    "subjects = [\"English\", \"Maths\", \"Science\", \"Social\", \"Hindi\"]\n",
    "\n",
    "# Generate random marks between 40 and 100\n",
    "marks = {sub: np.random.randint(40, 101, size=100) for sub in subjects}\n",
    "\n",
    "# Create DataFrame\n",
    "df = pd.DataFrame(marks)\n",
    "df[\"Name\"] = names\n",
    "df.set_index(\"Name\", inplace=True)\n",
    "\n",
    "# Add total and average\n",
    "df[\"Total\"] = df.sum(axis=1)\n",
    "df[\"Average\"] = (df[\"Total\"] / len(subjects)).round(2)\n",
    "\n",
    "# Function for grading\n",
    "def grade(avg):\n",
    "    if avg >= 90:\n",
    "        return \"A+\"\n",
    "    elif avg >= 80:\n",
    "        return \"A\"\n",
    "    elif avg >= 70:\n",
    "        return \"B\"\n",
    "    elif avg >= 60:\n",
    "        return \"C\"\n",
    "    elif avg >= 50:\n",
    "        return \"D\"\n",
    "    else:\n",
    "        return \"Fail\"\n",
    "\n",
    "# Apply grade function\n",
    "df[\"Grade\"] = df[\"Average\"].apply(grade)\n",
    "\n",
    "# Pass/Fail (Fail if any subject < 40)\n",
    "df[\"Result\"] = np.where(df[subjects].min(axis=1) < 40, \"Fail\", \"Pass\")\n",
    "\n",
    "# Print all 40 students' progress card\n",
    "print(\"Progress Card of 40 Students (SSLC):\\n\")\n",
    "print(df)\n",
    "\n",
    "# Find topper\n",
    "topper = df.loc[df[\"Total\"].idxmax()]\n",
    "print(\"\\nTopper of the class:\\n\", topper)\n"
   ]
  },
  {
   "cell_type": "code",
   "execution_count": 30,
   "id": "b08c6176",
   "metadata": {},
   "outputs": [
    {
     "data": {
      "text/plain": [
       "'A'"
      ]
     },
     "execution_count": 30,
     "metadata": {},
     "output_type": "execute_result"
    }
   ],
   "source": [
    "topper[\"Grade\"]"
   ]
  },
  {
   "cell_type": "code",
   "execution_count": 29,
   "id": "3508dbb3",
   "metadata": {},
   "outputs": [
    {
     "data": {
      "text/plain": [
       "English      87\n",
       "Maths        97\n",
       "Science     100\n",
       "Social       77\n",
       "Hindi        78\n",
       "Total       439\n",
       "Average    87.8\n",
       "Grade         A\n",
       "Result     Pass\n",
       "Name: student_27, dtype: object"
      ]
     },
     "execution_count": 29,
     "metadata": {},
     "output_type": "execute_result"
    }
   ],
   "source": [
    "topper"
   ]
  },
  {
   "cell_type": "code",
   "execution_count": null,
   "id": "f1eb6160",
   "metadata": {},
   "outputs": [],
   "source": []
  }
 ],
 "metadata": {
  "kernelspec": {
   "display_name": "base",
   "language": "python",
   "name": "python3"
  },
  "language_info": {
   "codemirror_mode": {
    "name": "ipython",
    "version": 3
   },
   "file_extension": ".py",
   "mimetype": "text/x-python",
   "name": "python",
   "nbconvert_exporter": "python",
   "pygments_lexer": "ipython3",
   "version": "3.13.5"
  }
 },
 "nbformat": 4,
 "nbformat_minor": 5
}
